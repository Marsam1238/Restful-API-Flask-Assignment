{
  "cells": [
    {
      "cell_type": "markdown",
      "source": [
        "\n",
        "# Theory\n",
        "**bold text**\n",
        "\n",
        "\n"
      ],
      "metadata": {
        "id": "3ZWLmUqIb2nl"
      },
      "id": "3ZWLmUqIb2nl"
    },
    {
      "cell_type": "markdown",
      "id": "6473ad11",
      "metadata": {
        "id": "6473ad11"
      },
      "source": [
        "### Q1: What is a RESTful API\n",
        "\n",
        "**Answer:**\n",
        "\n",
        "A RESTful API is an API that follows REST (Representational State Transfer) principles using HTTP methods (GET, POST, PUT, DELETE) to interact with resources."
      ]
    },
    {
      "cell_type": "markdown",
      "id": "2136607a",
      "metadata": {
        "id": "2136607a"
      },
      "source": [
        "Q2: Explain the concept of API specification\n",
        "\n",
        "**Answer:**\n",
        "\n",
        "An API specification is a formal document that defines how clients can interact with the API, including endpoints, methods, request/response formats."
      ]
    },
    {
      "cell_type": "markdown",
      "id": "fd3ad9be",
      "metadata": {
        "id": "fd3ad9be"
      },
      "source": [
        "### Q3: What is Flask, and why is it popular for building APIs\n",
        "\n",
        "*   List item\n",
        "*   List item\n",
        "\n",
        "\n",
        "\n",
        "**Answer:**\n",
        "\n",
        "Flask is a lightweight Python web framework. It's popular because it is simple, flexible, and provides tools for building APIs quickly."
      ]
    },
    {
      "cell_type": "markdown",
      "id": "de9d248d",
      "metadata": {
        "id": "de9d248d"
      },
      "source": [
        "### Q4: What is routing in Flask\n",
        "\n",
        "**Answer:**\n",
        "\n",
        "Routing in Flask is the process of mapping URLs to functions (called view functions)."
      ]
    },
    {
      "cell_type": "markdown",
      "id": "bd6ab370",
      "metadata": {
        "id": "bd6ab370"
      },
      "source": [
        "Q5: How do you create a simple Flask application\n",
        "\n",
        "**Answer:**\n",
        "\n",
        "Example of simple Flask app:\n",
        "```python\n",
        "from flask import Flask\n",
        "app = Flask(__name__)\n",
        "\n",
        "@app.route('/')\n",
        "def home():\n",
        "    return \"Hello, Flask!\"\n",
        "\n",
        "if __name__ == \"__main__\":\n",
        "    app.run(debug=True)\n",
        "```"
      ]
    },
    {
      "cell_type": "markdown",
      "id": "837e6010",
      "metadata": {
        "id": "837e6010"
      },
      "source": [
        "### Q6: What are HTTP methods used in RESTful APIs\n",
        "\n",
        "**Answer:**\n",
        "\n",
        "HTTP methods: GET (fetch), POST (create), PUT (update), DELETE (remove), PATCH (partial update)."
      ]
    },
    {
      "cell_type": "markdown",
      "id": "5d453f1b",
      "metadata": {
        "id": "5d453f1b"
      },
      "source": [
        "### Q7: What is the purpose of the @app.route() decorator in Flask\n",
        "\n",
        "**Answer:**\n",
        "\n",
        "The @app.route() decorator binds a URL to a Python function."
      ]
    },
    {
      "cell_type": "markdown",
      "id": "234520d9",
      "metadata": {
        "id": "234520d9"
      },
      "source": [
        "### Q8: What is the difference between GET and POST HTTP methods\n",
        "\n",
        "**Answer:**\n",
        "\n",
        "GET is used to retrieve data (idempotent), POST is used to submit data (not idempotent)."
      ]
    },
    {
      "cell_type": "markdown",
      "id": "68ca76b8",
      "metadata": {
        "id": "68ca76b8"
      },
      "source": [
        "### Q9: How do you handle errors in Flask APIs\n",
        "\n",
        "**Answer:**\n",
        "\n",
        "You can handle errors using error handlers:\n",
        "```python\n",
        "@app.errorhandler(404)\n",
        "def page_not_found(e):\n",
        "    return {'error': 'Page not found'}, 404\n",
        "```"
      ]
    },
    {
      "cell_type": "markdown",
      "id": "0890bf61",
      "metadata": {
        "id": "0890bf61"
      },
      "source": [
        "### Q10: How do you connect Flask to a SQL database\n",
        "\n",
        "**Answer:**\n",
        "\n",
        "Flask can connect to SQL databases using libraries like Flask-SQLAlchemy or raw connectors like sqlite3, psycopg2, etc."
      ]
    },
    {
      "cell_type": "markdown",
      "id": "a4a88682",
      "metadata": {
        "id": "a4a88682"
      },
      "source": [
        "### Q11: What is the role of Flask-SQLAlchemy\n",
        "\n",
        "**Answer:**\n",
        "\n",
        "Flask-SQLAlchemy is an ORM extension for Flask that simplifies database interactions."
      ]
    },
    {
      "cell_type": "markdown",
      "id": "a5525372",
      "metadata": {
        "id": "a5525372"
      },
      "source": [
        "### Q12: What are Flask blueprints, and how are they useful\n",
        "\n",
        "**Answer:**\n",
        "\n",
        "Blueprints help organize a large Flask application into smaller, modular components."
      ]
    },
    {
      "cell_type": "markdown",
      "id": "aea66e3d",
      "metadata": {
        "id": "aea66e3d"
      },
      "source": [
        "Q13: What is the purpose of Flask's request object\n",
        "\n",
        "**Answer:**\n",
        "\n",
        "The request object in Flask gives access to incoming request data like form inputs, JSON, headers."
      ]
    },
    {
      "cell_type": "markdown",
      "id": "5dd1c563",
      "metadata": {
        "id": "5dd1c563"
      },
      "source": [
        "### Q14: How do you create a RESTful API endpoint using Flask\n",
        "\n",
        "**Answer:**\n",
        "\n",
        "Example of RESTful API endpoint:\n",
        "```python\n",
        "@app.route('/api/data', methods=['GET'])\n",
        "def get_data():\n",
        "    return {'message': 'Hello API'}\n",
        "```"
      ]
    },
    {
      "cell_type": "markdown",
      "id": "9a27d433",
      "metadata": {
        "id": "9a27d433"
      },
      "source": [
        "### Q15: What is the purpose of Flask's jsonify() function\n",
        "\n",
        "**Answer:**\n",
        "\n",
        "Flask's jsonify() converts Python dicts/lists to JSON responses."
      ]
    },
    {
      "cell_type": "markdown",
      "id": "44ca3893",
      "metadata": {
        "id": "44ca3893"
      },
      "source": [
        "### Q16: Explain Flask’s url_for() function\n",
        "\n",
        "**Answer:**\n",
        "\n",
        "url_for() generates URLs dynamically for routes using function names instead of hardcoding."
      ]
    },
    {
      "cell_type": "markdown",
      "id": "18204ed2",
      "metadata": {
        "id": "18204ed2"
      },
      "source": [
        "Q17: How does Flask handle static files (CSS, JavaScript, etc.)\n",
        "\n",
        "**Answer:**\n",
        "\n",
        "Static files are stored in the `/static` folder and accessed via `/static/<filename>`."
      ]
    },
    {
      "cell_type": "markdown",
      "id": "8d6c62cc",
      "metadata": {
        "id": "8d6c62cc"
      },
      "source": [
        "### Q18: What is an API specification, and how does it help in building a Flask API\n",
        "\n",
        "**Answer:**\n",
        "\n",
        "An API specification defines endpoints, methods, inputs, outputs; it helps developers integrate consistently."
      ]
    },
    {
      "cell_type": "markdown",
      "id": "00cd2edc",
      "metadata": {
        "id": "00cd2edc"
      },
      "source": [
        "### Q19: What are HTTP status codes, and why are they important in a Flask API\n",
        "\n",
        "**Answer:**\n",
        "\n",
        "HTTP status codes (200, 201, 404, 500, etc.) communicate success/failure meaning to the client."
      ]
    },
    {
      "cell_type": "markdown",
      "id": "2ce9d327",
      "metadata": {
        "id": "2ce9d327"
      },
      "source": [
        "### Q20: How do you handle POST requests in Flask\n",
        "\n",
        "**Answer:**\n",
        "\n",
        "Handling POST request:\n",
        "```python\n",
        "@app.route('/submit', methods=['POST'])\n",
        "def submit():\n",
        "    data = request.json\n",
        "    return {'received': data}\n",
        "```"
      ]
    },
    {
      "cell_type": "markdown",
      "id": "97126539",
      "metadata": {
        "id": "97126539"
      },
      "source": [
        "### Q21: How would you secure a Flask API\n",
        "\n",
        "**Answer:**\n",
        "\n",
        "Secure Flask API with authentication (JWT, OAuth), HTTPS, input validation, and rate limiting."
      ]
    },
    {
      "cell_type": "markdown",
      "id": "2cba91f4",
      "metadata": {
        "id": "2cba91f4"
      },
      "source": [
        "### Q22: What is the significance of the Flask-RESTful extension\n",
        "\n",
        "**Answer:**\n",
        "\n",
        "Flask-RESTful extension simplifies REST API creation with Resource classes and built-in request parsing."
      ]
    },
    {
      "cell_type": "markdown",
      "id": "4abd79e7",
      "metadata": {
        "id": "4abd79e7"
      },
      "source": [
        "### Q23: What is the role of Flask’s session object?\n",
        "\n",
        "**Answer:**\n",
        "\n",
        "The session object stores data across requests for a specific user (e.g., login state)."
      ]
    },
    {
      "cell_type": "code",
      "source": [
        "# Practical Question"
      ],
      "metadata": {
        "id": "cgXmE4D_bGuI"
      },
      "id": "cgXmE4D_bGuI",
      "execution_count": null,
      "outputs": []
    },
    {
      "cell_type": "markdown",
      "id": "ea8db571",
      "metadata": {
        "id": "ea8db571"
      },
      "source": [
        "### Q1: How do you create a basic Flask application\n",
        "\n",
        "**Answer:**\n",
        "\n",
        "A basic Flask application is created with Flask class, routes, and `app.run()`."
      ]
    },
    {
      "cell_type": "markdown",
      "id": "afd34d50",
      "metadata": {
        "id": "afd34d50"
      },
      "source": [
        "### Q2: How do you serve static files like images or CSS in Flask\n",
        "\n",
        "**Answer:**\n",
        "\n",
        "Static files can be served by placing them in `/static` folder and referencing via `url_for('static', filename='style.css')`."
      ]
    },
    {
      "cell_type": "markdown",
      "id": "a6532f8e",
      "metadata": {
        "id": "a6532f8e"
      },
      "source": [
        "### Q3: How do you define different routes with different HTTP methods in Flask\n",
        "\n",
        "**Answer:**\n",
        "\n",
        "Example of routes with methods:\n",
        "```python\n",
        "@app.route('/item', methods=['GET', 'POST'])\n",
        "def item():\n",
        "    if request.method == 'GET':\n",
        "        return 'Get item'\n",
        "    else:\n",
        "        return 'Create item'\n",
        "```"
      ]
    },
    {
      "cell_type": "markdown",
      "id": "dfb44483",
      "metadata": {
        "id": "dfb44483"
      },
      "source": [
        "### **Q4**: How do you render HTML templates in Flask\n",
        "\n",
        "**Answer:**\n",
        "\n",
        "Flask uses Jinja2 templating system to render HTML templates from the `/templates` folder."
      ]
    },
    {
      "cell_type": "markdown",
      "id": "72d4bedf",
      "metadata": {
        "id": "72d4bedf"
      },
      "source": [
        "### Q5: How can you generate URLs for routes in Flask using url_for\n",
        "\n",
        "**Answer:**\n",
        "\n",
        "url_for() generates URLs by referencing route function names with arguments."
      ]
    },
    {
      "cell_type": "markdown",
      "id": "768636a5",
      "metadata": {
        "id": "768636a5"
      },
      "source": [
        "### Q6: How do you handle forms in Flask\n",
        "\n",
        "**Answer:**\n",
        "\n",
        "Forms in Flask are handled via POST method and `request.form`. Flask-WTF can help."
      ]
    },
    {
      "cell_type": "markdown",
      "id": "7bdfdabd",
      "metadata": {
        "id": "7bdfdabd"
      },
      "source": [
        "### Q7: How can you validate form data in Flask\n",
        "\n",
        "**Answer:**\n",
        "\n",
        "Form data validation can be done using Flask-WTF or manual checks."
      ]
    },
    {
      "cell_type": "markdown",
      "id": "89a2db19",
      "metadata": {
        "id": "89a2db19"
      },
      "source": [
        "### Q8: How do you manage sessions in Flask\n",
        "\n",
        "**Answer:**\n",
        "\n",
        "Sessions can be managed using `flask.session` to persist user data."
      ]
    },
    {
      "cell_type": "markdown",
      "id": "0a4d7cdd",
      "metadata": {
        "id": "0a4d7cdd"
      },
      "source": [
        "### Q9: How do you redirect to a different route in Flask\n",
        "\n",
        "**Answer:**\n",
        "\n",
        "Flask provides `redirect(url_for('route'))` for redirection."
      ]
    },
    {
      "cell_type": "markdown",
      "id": "28a0c2ef",
      "metadata": {
        "id": "28a0c2ef"
      },
      "source": [
        "### Q10: How do you handle errors in Flask (e.g., 404)\n",
        "\n",
        "**Answer:**\n",
        "\n",
        "Flask handles errors using `@app.errorhandler` decorator."
      ]
    },
    {
      "cell_type": "markdown",
      "id": "dff3d543",
      "metadata": {
        "id": "dff3d543"
      },
      "source": [
        "### Q11: How do you structure a Flask app using Blueprints\n",
        "\n",
        "**Answer:**\n",
        "\n",
        "Blueprints let you split app into components (e.g., auth, dashboard)."
      ]
    },
    {
      "cell_type": "markdown",
      "id": "0f5de690",
      "metadata": {
        "id": "0f5de690"
      },
      "source": [
        "### Q12: How do you define a custom Jinja filter in Flask\n",
        "\n",
        "**Answer:**\n",
        "\n",
        "Custom Jinja filter is defined with `@app.template_filter()`."
      ]
    },
    {
      "cell_type": "markdown",
      "id": "18dc2b3f",
      "metadata": {
        "id": "18dc2b3f"
      },
      "source": [
        "### Q13: How can you redirect with query parameters in Flask\n",
        "\n",
        "**Answer:**\n",
        "\n",
        "You can redirect with query params using `url_for('route', param=value)`."
      ]
    },
    {
      "cell_type": "markdown",
      "id": "184dad3a",
      "metadata": {
        "id": "184dad3a"
      },
      "source": [
        "### Q14: How do you return JSON responses in Flask\n",
        "\n",
        "**Answer:**\n",
        "\n",
        "Return JSON using `jsonify()` or returning a dict (Flask 2.0+ auto-converts)."
      ]
    },
    {
      "cell_type": "markdown",
      "id": "f96474cb",
      "metadata": {
        "id": "f96474cb"
      },
      "source": [
        "### Q15: How do you capture URL parameters in Flask?\n",
        "\n",
        "**Answer:**\n",
        "\n",
        "URL parameters captured using `<variable>` in route definition."
      ]
    }
  ],
  "metadata": {
    "colab": {
      "provenance": []
    },
    "language_info": {
      "name": "python"
    },
    "kernelspec": {
      "name": "python3",
      "display_name": "Python 3"
    }
  },
  "nbformat": 4,
  "nbformat_minor": 5
}